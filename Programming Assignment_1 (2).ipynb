{
 "cells": [
  {
   "cell_type": "markdown",
   "id": "637b47a5",
   "metadata": {},
   "source": [
    "## Programming Assignment_1\n",
    "-------------"
   ]
  },
  {
   "cell_type": "markdown",
   "id": "0c647dbe",
   "metadata": {},
   "source": [
    "### 1. Write a Python program to print \"Hello Python\"?"
   ]
  },
  {
   "cell_type": "code",
   "execution_count": 1,
   "id": "76328e5d",
   "metadata": {},
   "outputs": [
    {
     "name": "stdout",
     "output_type": "stream",
     "text": [
      "Hello Python\n"
     ]
    }
   ],
   "source": [
    "print(\"Hello Python\")"
   ]
  },
  {
   "cell_type": "markdown",
   "id": "fc18a6cd",
   "metadata": {},
   "source": [
    "### 2. Write a Python program to do arithmetical operations addition and division.?\n"
   ]
  },
  {
   "cell_type": "code",
   "execution_count": 2,
   "id": "e300c151",
   "metadata": {},
   "outputs": [
    {
     "name": "stdout",
     "output_type": "stream",
     "text": [
      "Addition:  15\n",
      "Division:  2\n"
     ]
    }
   ],
   "source": [
    "a=5\n",
    "b=10\n",
    "add = a+b\n",
    "div = b/a\n",
    "\n",
    "print(\"Addition: \",add)\n",
    "print(\"Division: \",div)"
   ]
  },
  {
   "cell_type": "markdown",
   "id": "af6e2429",
   "metadata": {},
   "source": [
    "### 3. Write a Python program to find the area of a triangle?\n"
   ]
  },
  {
   "cell_type": "code",
   "execution_count": 1,
   "id": "549282c5",
   "metadata": {},
   "outputs": [
    {
     "name": "stdout",
     "output_type": "stream",
     "text": [
      "Base: 10\n",
      "Height: 52\n",
      "Area: 260.0\n"
     ]
    }
   ],
   "source": [
    "b=int(input(\"Base: \"))\n",
    "h=int(input(\"Height: \"))\n",
    "a=(b*h)/2\n",
    "print(\"Area:\",a)"
   ]
  },
  {
   "cell_type": "markdown",
   "id": "b8140061",
   "metadata": {},
   "source": [
    "### 4. Write a Python program to swap two variables?\n"
   ]
  },
  {
   "cell_type": "code",
   "execution_count": 8,
   "id": "d3732cfa",
   "metadata": {},
   "outputs": [
    {
     "name": "stdout",
     "output_type": "stream",
     "text": [
      "Enter any value: roger\n",
      "Enter any value: arnold\n",
      "\n",
      "Values before swapping:-\n",
      "Variable 1: roger\n",
      "Variable 2: arnold\n",
      "\n",
      "Values after swapping:-\n",
      "Variable 1: arnold\n",
      "Variable 2: roger\n"
     ]
    }
   ],
   "source": [
    "a=input(\"Enter any value: \")\n",
    "b=input(\"Enter any value: \")\n",
    "print(\"\\nValues before swapping:-\")\n",
    "print(\"Variable 1:\",a)\n",
    "print(\"Variable 2:\",b)\n",
    "a,b=b,a\n",
    "print(\"\\nValues after swapping:-\")\n",
    "print(\"Variable 1:\",a)\n",
    "print(\"Variable 2:\",b)"
   ]
  },
  {
   "cell_type": "markdown",
   "id": "3f8054c1",
   "metadata": {},
   "source": [
    "### 5. Write a Python program to generate a random number?\n"
   ]
  },
  {
   "cell_type": "code",
   "execution_count": 6,
   "id": "2044ba33",
   "metadata": {},
   "outputs": [
    {
     "name": "stdout",
     "output_type": "stream",
     "text": [
      "0.37627076759855405\n"
     ]
    }
   ],
   "source": [
    "import random\n",
    "number = random.random()\n",
    "print(number)"
   ]
  }
 ],
 "metadata": {
  "kernelspec": {
   "display_name": "Python 3 (ipykernel)",
   "language": "python",
   "name": "python3"
  },
  "language_info": {
   "codemirror_mode": {
    "name": "ipython",
    "version": 3
   },
   "file_extension": ".py",
   "mimetype": "text/x-python",
   "name": "python",
   "nbconvert_exporter": "python",
   "pygments_lexer": "ipython3",
   "version": "3.9.12"
  }
 },
 "nbformat": 4,
 "nbformat_minor": 5
}
