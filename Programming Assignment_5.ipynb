{
 "cells": [
  {
   "cell_type": "markdown",
   "id": "4ac9602a",
   "metadata": {},
   "source": [
    "## Python Basic Programming Assignment - 5\n",
    "--------------\n"
   ]
  },
  {
   "cell_type": "markdown",
   "id": "fdaeee06",
   "metadata": {},
   "source": [
    "### 1. Write a Python Program to Find LCM?"
   ]
  },
  {
   "cell_type": "code",
   "execution_count": 34,
   "id": "2a7fd61a",
   "metadata": {},
   "outputs": [
    {
     "name": "stdout",
     "output_type": "stream",
     "text": [
      "Enter the numbers: 24 36\n",
      "LCM : 72\n"
     ]
    }
   ],
   "source": [
    "# LCM of two numbers\n",
    "\n",
    "\n",
    "num1,num2 = input(\"Enter the numbers: \").split()\n",
    "num1,num2 = int(num1),int(num2)\n",
    "l=[]\n",
    "\n",
    "if num1>num2:\n",
    "    great = num1\n",
    "    \n",
    "else:\n",
    "    great = num2\n",
    "    \n",
    "for i in range(2,great+1):\n",
    "    \n",
    "    if num1%i==0 and num2%i==0 :\n",
    "        l.append(i)\n",
    "\n",
    "hcf = max(l)\n",
    "\n",
    "lcm = (num1 * num2)/hcf\n",
    "\n",
    "print(\"LCM :\",str(int(lcm)))\n"
   ]
  },
  {
   "cell_type": "markdown",
   "id": "2f459cdf",
   "metadata": {},
   "source": [
    "### 2. Write a Python Program to Find HCF?"
   ]
  },
  {
   "cell_type": "code",
   "execution_count": 1,
   "id": "a7d288c6",
   "metadata": {},
   "outputs": [
    {
     "name": "stdout",
     "output_type": "stream",
     "text": [
      "Enter the numbers: 100 200\n",
      "HCF: 100\n"
     ]
    }
   ],
   "source": [
    "# HCF of two numbers:\n",
    "\n",
    "num1,num2 = input(\"Enter the numbers: \").split()\n",
    "num1,num2 = int(num1),int(num2)\n",
    "l=[]\n",
    "\n",
    "if num1>num2:\n",
    "    great = num1\n",
    "    \n",
    "else:\n",
    "    great = num2\n",
    "    \n",
    "for i in range(2,great+1):\n",
    "    \n",
    "    if num1%i==0 and num2%i==0 :\n",
    "        l.append(i)\n",
    "\n",
    "print(\"HCF:\",str(max(l)))"
   ]
  },
  {
   "cell_type": "markdown",
   "id": "d2c29370",
   "metadata": {},
   "source": [
    "### 3. Write a Python Program to Convert Decimal to Binary, Octal and Hexadecimal?"
   ]
  },
  {
   "cell_type": "code",
   "execution_count": 27,
   "id": "e51070df",
   "metadata": {},
   "outputs": [
    {
     "name": "stdout",
     "output_type": "stream",
     "text": [
      "Enter a number in decimal format: 10000\n",
      "\n",
      "\n",
      "Binary      : 10011100010000\n",
      "Octal       : 23420\n",
      "Hexadecimal : 2710\n"
     ]
    }
   ],
   "source": [
    "def convert_decimal(num,base):\n",
    "    l=[]\n",
    "    for i in range(num+1):\n",
    "        a = num%base\n",
    "\n",
    "        if num!=0:\n",
    "            l.append(str(a))\n",
    "            num = num // base\n",
    "\n",
    "        elif num==1:\n",
    "            break\n",
    "            \n",
    "    if len(l)!=0:\n",
    "        l.reverse()\n",
    "        converted = \"\".join(l)\n",
    "        return converted\n",
    "    else:\n",
    "        return num\n",
    "   \n",
    "n = int(input(\"Enter a number in decimal format: \"))    \n",
    "binary = convert_decimal(n,2)\n",
    "octal = convert_decimal(n,8)\n",
    "hexadecimal = convert_decimal(n,16)\n",
    "print(\"\\n\")\n",
    "print(\"Binary      : \"+str(binary))\n",
    "print(\"Octal       : \"+str(octal))\n",
    "print(\"Hexadecimal : \"+str(hexadecimal))"
   ]
  },
  {
   "cell_type": "markdown",
   "id": "2a16c5fd",
   "metadata": {},
   "source": [
    "### 4. Write a Python Program To Find ASCII value of a character?"
   ]
  },
  {
   "cell_type": "code",
   "execution_count": 2,
   "id": "94b11a2b",
   "metadata": {},
   "outputs": [
    {
     "name": "stdout",
     "output_type": "stream",
     "text": [
      "Enter the character : &\n",
      "ASCII Value: 38\n"
     ]
    }
   ],
   "source": [
    "character = input(\"Enter the character : \")\n",
    "av = ord(character)\n",
    "\n",
    "print(\"ASCII Value: \"+str(av))"
   ]
  },
  {
   "cell_type": "markdown",
   "id": "226778a0",
   "metadata": {},
   "source": [
    "### 5. Write a Python Program to Make a Simple Calculator with 4 basic mathematical operations?"
   ]
  },
  {
   "cell_type": "code",
   "execution_count": 25,
   "id": "49024d20",
   "metadata": {},
   "outputs": [
    {
     "name": "stdout",
     "output_type": "stream",
     "text": [
      "Enter two numbers: 55 88\n",
      "\n",
      "Addition       : +\n",
      "Subtraction    : -\n",
      "Multiplication : *\n",
      "Division       : /\n",
      "\n",
      "Choose the operator from the above: +\n",
      "55.0 + 88.0 = 143.0\n"
     ]
    }
   ],
   "source": [
    "a,b = input(\"Enter two numbers: \").split()\n",
    "a,b =float(a),float(b)\n",
    "\n",
    "\n",
    "print(\"\\nAddition       : +\\n\"\n",
    "      \"Subtraction    : -\\n\"\n",
    "      \"Multiplication : *\\n\"\n",
    "      \"Division       : /\"\n",
    "      )\n",
    "\n",
    "operator = input(\"\\nChoose the operator from the above: \")\n",
    "\n",
    "if operator == '+':\n",
    "    ans = a+b\n",
    "    print(str(a)+\" \"+str(operator)+\" \"+str(b)+\" = \"+str(ans))\n",
    "elif operator == '-':\n",
    "    ans = a-b\n",
    "    print(str(a)+\" \"+str(operator)+\" \"+str(b)+\" = \"+str(ans))\n",
    "elif operator == '*':\n",
    "    ans = a*b\n",
    "    print(str(a)+\" \"+str(operator)+\" \"+str(b)+\" = \"+str(ans))\n",
    "elif operator == '/':\n",
    "    try:\n",
    "        ans = a/b\n",
    "        print(str(a)+\" \"+str(operator)+\" \"+str(b)+\" = \"+str(ans))\n",
    "        \n",
    "    except ZeroDivisionError:\n",
    "        print(\"You cant divide by Zero\")\n",
    "\n",
    "    "
   ]
  }
 ],
 "metadata": {
  "kernelspec": {
   "display_name": "Python 3 (ipykernel)",
   "language": "python",
   "name": "python3"
  },
  "language_info": {
   "codemirror_mode": {
    "name": "ipython",
    "version": 3
   },
   "file_extension": ".py",
   "mimetype": "text/x-python",
   "name": "python",
   "nbconvert_exporter": "python",
   "pygments_lexer": "ipython3",
   "version": "3.9.12"
  }
 },
 "nbformat": 4,
 "nbformat_minor": 5
}
