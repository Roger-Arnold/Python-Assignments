{
 "cells": [
  {
   "cell_type": "markdown",
   "id": "84a41a9f",
   "metadata": {},
   "source": [
    "# Programming Basic Assignment 6"
   ]
  },
  {
   "cell_type": "markdown",
   "id": "a4b40558",
   "metadata": {},
   "source": [
    "### 1. Write a Python Program to Display Fibonacci Sequence Using Recursion?"
   ]
  },
  {
   "cell_type": "code",
   "execution_count": 4,
   "id": "ee6e2d4e",
   "metadata": {},
   "outputs": [
    {
     "name": "stdout",
     "output_type": "stream",
     "text": [
      "Enter the number of terms: 7\n",
      "0, 1, 1, 2, 3, "
     ]
    }
   ],
   "source": [
    "def fib(n):\n",
    "    \n",
    "    if n==1:\n",
    "        return 0\n",
    "    \n",
    "    elif n==2:\n",
    "        return 1\n",
    "    \n",
    "    else:\n",
    "        return fib(n-1)+fib(n-2)\n",
    "    \n",
    "n = int(input(\"Enter the number of terms: \"))\n",
    "for i in range(5):\n",
    "    print(fib(i+1),end=\", \")"
   ]
  },
  {
   "cell_type": "markdown",
   "id": "d7a57f60",
   "metadata": {},
   "source": [
    "### 2. Write a Python Program to Find Factorial of Number Using Recursion?"
   ]
  },
  {
   "cell_type": "code",
   "execution_count": 8,
   "id": "ff7cd001",
   "metadata": {},
   "outputs": [
    {
     "name": "stdout",
     "output_type": "stream",
     "text": [
      "Enter the number: 5\n",
      "120\n"
     ]
    }
   ],
   "source": [
    "def fact(n):\n",
    "    \n",
    "    if n== 0 or n==1:\n",
    "        return 1\n",
    "    \n",
    "    else:\n",
    "        return n*fact(n-1)\n",
    "    \n",
    "n = int(input(\"Enter the number: \"))\n",
    "\n",
    "print(fact(n))"
   ]
  },
  {
   "cell_type": "markdown",
   "id": "0357b86f",
   "metadata": {},
   "source": [
    "### 3. Write a Python Program to calculate your Body Mass Index?"
   ]
  },
  {
   "cell_type": "code",
   "execution_count": 10,
   "id": "14a273b3",
   "metadata": {},
   "outputs": [
    {
     "name": "stdout",
     "output_type": "stream",
     "text": [
      "Enter your weight in kg: 98\n",
      "Enter your height in cm: 187\n",
      "\n",
      "BMI : 28.02482198518688\n"
     ]
    }
   ],
   "source": [
    "w = int(input(\"Enter your weight in kg: \"))\n",
    "h = int(input(\"Enter your height in cm: \"))\n",
    "\n",
    "bmi = (w / (h**2)) * 10000\n",
    "print(\"\\nBMI : \"+str(bmi))"
   ]
  },
  {
   "cell_type": "markdown",
   "id": "96d344a4",
   "metadata": {},
   "source": [
    "### 4. Write a Python Program to calculate the natural logarithm of any number?"
   ]
  },
  {
   "cell_type": "code",
   "execution_count": 13,
   "id": "3294ae52",
   "metadata": {},
   "outputs": [
    {
     "name": "stdout",
     "output_type": "stream",
     "text": [
      "Enter any number: 55\n",
      "Natural Logarithm of 55 : 4.007333185232471\n"
     ]
    }
   ],
   "source": [
    "import math\n",
    "n = int(input(\"Enter any number: \"))\n",
    "o = math.log(n)\n",
    "print(f\"Natural Logarithm of {n} : {o}\")"
   ]
  },
  {
   "cell_type": "markdown",
   "id": "11c0d92c",
   "metadata": {},
   "source": [
    "\n",
    "### 5. Write a Python Program for cube sum of first n natural numbers?\n"
   ]
  },
  {
   "cell_type": "code",
   "execution_count": 18,
   "id": "4b62eb07",
   "metadata": {},
   "outputs": [
    {
     "name": "stdout",
     "output_type": "stream",
     "text": [
      "Enter the number of natural numbers: 5\n",
      "Sum of cubes: 225\n"
     ]
    }
   ],
   "source": [
    "def cube(n):\n",
    "    if n==1:\n",
    "        return 1\n",
    "    else:\n",
    "        c = n**3\n",
    "        return c + cube(n-1)\n",
    "\n",
    "n = int(input(\"Enter the number of natural numbers: \"))\n",
    "print(\"Sum of cubes: \"+str(cube(n)))\n"
   ]
  }
 ],
 "metadata": {
  "kernelspec": {
   "display_name": "Python 3 (ipykernel)",
   "language": "python",
   "name": "python3"
  },
  "language_info": {
   "codemirror_mode": {
    "name": "ipython",
    "version": 3
   },
   "file_extension": ".py",
   "mimetype": "text/x-python",
   "name": "python",
   "nbconvert_exporter": "python",
   "pygments_lexer": "ipython3",
   "version": "3.9.12"
  }
 },
 "nbformat": 4,
 "nbformat_minor": 5
}
