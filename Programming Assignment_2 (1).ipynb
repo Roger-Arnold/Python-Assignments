{
 "cells": [
  {
   "cell_type": "markdown",
   "id": "08c66ea5",
   "metadata": {},
   "source": [
    "## Programming Assignment_2\n",
    "-------------"
   ]
  },
  {
   "cell_type": "markdown",
   "id": "4e50cf42",
   "metadata": {},
   "source": [
    "### 1. Write a Python program to convert kilometers to miles?\n"
   ]
  },
  {
   "cell_type": "code",
   "execution_count": 10,
   "id": "b584c892",
   "metadata": {},
   "outputs": [
    {
     "name": "stdout",
     "output_type": "stream",
     "text": [
      "Enter the distance in kilometeres: 5\n",
      "That's 3.106855 miles\n"
     ]
    }
   ],
   "source": [
    "d = int(input(\"Enter the distance in kilometeres: \"))\n",
    "ml = d*0.621371\n",
    "ml = float(ml)\n",
    "print(\"That's \"+str(ml)+\" miles\")"
   ]
  },
  {
   "cell_type": "markdown",
   "id": "0df4e6bf",
   "metadata": {},
   "source": [
    "### 2.Write a Python program to convert Celsius to Fahrenheit?"
   ]
  },
  {
   "cell_type": "code",
   "execution_count": 15,
   "id": "0f20c7b9",
   "metadata": {},
   "outputs": [
    {
     "name": "stdout",
     "output_type": "stream",
     "text": [
      "Enter temperature in celcius: 5\n",
      "Temperature in Farenheit:  41.0\n"
     ]
    }
   ],
   "source": [
    "c=int(input(\"Enter temperature in celcius: \"))\n",
    "f = ((c*9)/5) + 32\n",
    "f = float(f)\n",
    "print(\"Temperature in Farenheit: \",str(f))"
   ]
  },
  {
   "cell_type": "markdown",
   "id": "46129b8e",
   "metadata": {},
   "source": [
    "### 3. Write a Python program to display calendar?\n"
   ]
  },
  {
   "cell_type": "code",
   "execution_count": 4,
   "id": "e05d0d6b",
   "metadata": {},
   "outputs": [
    {
     "name": "stdout",
     "output_type": "stream",
     "text": [
      "Enter the year: 2022\n",
      "                                  2022\n",
      "\n",
      "      January                   February                   March\n",
      "Mo Tu We Th Fr Sa Su      Mo Tu We Th Fr Sa Su      Mo Tu We Th Fr Sa Su\n",
      "                1  2          1  2  3  4  5  6          1  2  3  4  5  6\n",
      " 3  4  5  6  7  8  9       7  8  9 10 11 12 13       7  8  9 10 11 12 13\n",
      "10 11 12 13 14 15 16      14 15 16 17 18 19 20      14 15 16 17 18 19 20\n",
      "17 18 19 20 21 22 23      21 22 23 24 25 26 27      21 22 23 24 25 26 27\n",
      "24 25 26 27 28 29 30      28                        28 29 30 31\n",
      "31\n",
      "\n",
      "       April                      May                       June\n",
      "Mo Tu We Th Fr Sa Su      Mo Tu We Th Fr Sa Su      Mo Tu We Th Fr Sa Su\n",
      "             1  2  3                         1             1  2  3  4  5\n",
      " 4  5  6  7  8  9 10       2  3  4  5  6  7  8       6  7  8  9 10 11 12\n",
      "11 12 13 14 15 16 17       9 10 11 12 13 14 15      13 14 15 16 17 18 19\n",
      "18 19 20 21 22 23 24      16 17 18 19 20 21 22      20 21 22 23 24 25 26\n",
      "25 26 27 28 29 30         23 24 25 26 27 28 29      27 28 29 30\n",
      "                          30 31\n",
      "\n",
      "        July                     August                  September\n",
      "Mo Tu We Th Fr Sa Su      Mo Tu We Th Fr Sa Su      Mo Tu We Th Fr Sa Su\n",
      "             1  2  3       1  2  3  4  5  6  7                1  2  3  4\n",
      " 4  5  6  7  8  9 10       8  9 10 11 12 13 14       5  6  7  8  9 10 11\n",
      "11 12 13 14 15 16 17      15 16 17 18 19 20 21      12 13 14 15 16 17 18\n",
      "18 19 20 21 22 23 24      22 23 24 25 26 27 28      19 20 21 22 23 24 25\n",
      "25 26 27 28 29 30 31      29 30 31                  26 27 28 29 30\n",
      "\n",
      "      October                   November                  December\n",
      "Mo Tu We Th Fr Sa Su      Mo Tu We Th Fr Sa Su      Mo Tu We Th Fr Sa Su\n",
      "                1  2          1  2  3  4  5  6                1  2  3  4\n",
      " 3  4  5  6  7  8  9       7  8  9 10 11 12 13       5  6  7  8  9 10 11\n",
      "10 11 12 13 14 15 16      14 15 16 17 18 19 20      12 13 14 15 16 17 18\n",
      "17 18 19 20 21 22 23      21 22 23 24 25 26 27      19 20 21 22 23 24 25\n",
      "24 25 26 27 28 29 30      28 29 30                  26 27 28 29 30 31\n",
      "31\n",
      "\n"
     ]
    }
   ],
   "source": [
    "#display one whole year's calendar\n",
    "\n",
    "import calendar\n",
    "\n",
    "year = int(input(\"Enter the year: \"))\n",
    "\n",
    "print(calendar.calendar(year))"
   ]
  },
  {
   "cell_type": "markdown",
   "id": "db2bf0f7",
   "metadata": {},
   "source": [
    "### 4. Write a Python program to solve quadratic equation?"
   ]
  },
  {
   "cell_type": "code",
   "execution_count": 14,
   "id": "01d3e9ed",
   "metadata": {},
   "outputs": [
    {
     "name": "stdout",
     "output_type": "stream",
     "text": [
      "Enter the coefficients a,b,c for a(x^2)+b(x)+c\n",
      "1 5 8\n",
      "\n",
      "Complex roots...\n",
      "********************************************************************************\n",
      "Root1: (-2.5+1.3228756555322954j)\n",
      "Root2: (-2.5-1.3228756555322954j)\n",
      "********************************************************************************\n"
     ]
    }
   ],
   "source": [
    "import math\n",
    "import cmath\n",
    "\n",
    "a,b,c=input(\"Enter the coefficients a,b,c for a(x^2)+b(x)+c\\n\").split()\n",
    "a,b,c=int(a),int(b),int(c)\n",
    "under_root = (b**2)-(4*a*c)\n",
    "square_root= math.sqrt(abs(under_root))\n",
    "\n",
    "if under_root>0:\n",
    "    # Real and different roots\n",
    "    print(\"\\nReal and different roots..\")\n",
    "    print(\"*\"*80)\n",
    "    root1 = (-b+square_root)/(2*a)\n",
    "    root2 = (-b-square_root)/(2*a)\n",
    "    print('Root1:',root1)\n",
    "    print('Root2:',root2)\n",
    "    print(\"*\"*80)\n",
    "    \n",
    "elif under_root==0:\n",
    "    print(\"\\nRoots are real and equal..\")\n",
    "    print(\"*\"*80)\n",
    "    root1 = -(b/(2*a))\n",
    "    root2 = -(b/(2*a))\n",
    "    print('Root1:',root1)\n",
    "    print('Root2:',root2)\n",
    "    print(\"*\"*80)\n",
    "  \n",
    "elif under_root<0:\n",
    "    print(\"\\nComplex roots...\")\n",
    "    print(\"*\"*80)\n",
    "    root1= (-b + cmath.sqrt(under_root))/(2*a)\n",
    "    root2= (-b - cmath.sqrt(under_root))/(2*a)\n",
    "    print('Root1:',root1)\n",
    "    print('Root2:',root2)\n",
    "    print(\"*\"*80)\n",
    "    \n",
    "    "
   ]
  },
  {
   "cell_type": "markdown",
   "id": "f70f74c9",
   "metadata": {},
   "source": [
    "### 5. Write a Python program to swap two variables without temp variable?"
   ]
  },
  {
   "cell_type": "code",
   "execution_count": 7,
   "id": "4dee86f2",
   "metadata": {},
   "outputs": [
    {
     "name": "stdout",
     "output_type": "stream",
     "text": [
      "5\n",
      "4\n",
      "Before swapping:  5 , 4\n",
      "After Swapping :  4 , 5\n"
     ]
    }
   ],
   "source": [
    "a=input()\n",
    "b=input()\n",
    "print(\"Before swapping: \",a,\",\",b)\n",
    "a,b=b,a\n",
    "print(\"After Swapping : \",a,\",\",b)"
   ]
  }
 ],
 "metadata": {
  "kernelspec": {
   "display_name": "Python 3 (ipykernel)",
   "language": "python",
   "name": "python3"
  },
  "language_info": {
   "codemirror_mode": {
    "name": "ipython",
    "version": 3
   },
   "file_extension": ".py",
   "mimetype": "text/x-python",
   "name": "python",
   "nbconvert_exporter": "python",
   "pygments_lexer": "ipython3",
   "version": "3.9.12"
  }
 },
 "nbformat": 4,
 "nbformat_minor": 5
}
