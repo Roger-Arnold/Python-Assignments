{
 "cells": [
  {
   "cell_type": "markdown",
   "id": "20cb4340",
   "metadata": {},
   "source": [
    "## Programming Assignment_4\n",
    "----------------"
   ]
  },
  {
   "cell_type": "markdown",
   "id": "4fdb6695",
   "metadata": {},
   "source": [
    "### 1. Write a Python Program to Find the Factorial of a Number?"
   ]
  },
  {
   "cell_type": "code",
   "execution_count": 25,
   "id": "baa0272a",
   "metadata": {},
   "outputs": [
    {
     "name": "stdout",
     "output_type": "stream",
     "text": [
      "Enter a number: 5\n",
      "Factorial: 120\n"
     ]
    }
   ],
   "source": [
    "def fact(num):\n",
    "    num = int(num)\n",
    "    if num==0 or num==1:\n",
    "        return 1\n",
    "    else:\n",
    "        return(num*fact(num-1))\n",
    "\n",
    "n = int(input(\"Enter a number: \"))\n",
    "out=fact(n)\n",
    "print(\"Factorial:\",out)"
   ]
  },
  {
   "cell_type": "markdown",
   "id": "e6beef62",
   "metadata": {},
   "source": [
    "### 2. Write a Python Program to Display the multiplication Table?"
   ]
  },
  {
   "cell_type": "code",
   "execution_count": 35,
   "id": "a6ffcdc8",
   "metadata": {},
   "outputs": [
    {
     "name": "stdout",
     "output_type": "stream",
     "text": [
      "Enter the multiplication table : 5\n",
      "Length of table: 4\n",
      "1 X 5 = 5\n",
      "2 X 5 = 10\n",
      "3 X 5 = 15\n",
      "4 X 5 = 20\n"
     ]
    }
   ],
   "source": [
    "def mul(num):\n",
    "    for i in range(1,end+1):\n",
    "        print(str(i)+\" X \"+str(num)+\" = \"+str(i*num))\n",
    "        \n",
    "n = int(input(\"Enter the multiplication table : \"))\n",
    "end = int(input(\"Length of table: \"))\n",
    "out = mul(n)"
   ]
  },
  {
   "cell_type": "markdown",
   "id": "7de7eba5",
   "metadata": {},
   "source": [
    "### 3. Write a Python Program to Print the Fibonacci sequence?\n"
   ]
  },
  {
   "cell_type": "code",
   "execution_count": 21,
   "id": "65189524",
   "metadata": {},
   "outputs": [
    {
     "name": "stdout",
     "output_type": "stream",
     "text": [
      "Number of terms you need in fiboancci series: 10\n",
      "1, 1, 2, 3, 5, 8, 13, 21, 34, 55\n"
     ]
    }
   ],
   "source": [
    "def fib(num):\n",
    "    l=[1,1]\n",
    "    for i in range(1,(num-1)):\n",
    "        l.append(l[i]+l[i-1])\n",
    "    return l\n",
    "\n",
    "length = int(input(\"Number of terms you need in fiboancci series: \"))\n",
    "out = fib(length)\n",
    "print(*out,sep=', ')"
   ]
  },
  {
   "cell_type": "markdown",
   "id": "0446442e",
   "metadata": {},
   "source": [
    "### 4. Write a Python Program to Check Armstrong Number?"
   ]
  },
  {
   "cell_type": "code",
   "execution_count": 33,
   "id": "03871b76",
   "metadata": {},
   "outputs": [
    {
     "name": "stdout",
     "output_type": "stream",
     "text": [
      "Enter a number: 93084\n",
      "Amstrong number\n"
     ]
    }
   ],
   "source": [
    "l = int(input(\"Enter a number: \"))\n",
    "l = str(l)\n",
    "sum = 0\n",
    "for i in l:\n",
    "    sum = sum + pow(int(i),(len(l)))  \n",
    "if sum==int(l):\n",
    "    print(\"Amstrong number\")\n",
    "        \n",
    "else:\n",
    "    print(\"Not an amstrong number\")\n"
   ]
  },
  {
   "cell_type": "markdown",
   "id": "a6f9adfe",
   "metadata": {},
   "source": [
    "### 5. Write a Python Program to Find Armstrong Number in an Interval?"
   ]
  },
  {
   "cell_type": "code",
   "execution_count": 23,
   "id": "1de822d0",
   "metadata": {},
   "outputs": [
    {
     "name": "stdout",
     "output_type": "stream",
     "text": [
      "Enter the lower limit of interval: 1\n",
      "Enter the upper limit of interval: 100000\n",
      "\n",
      "Amstrong numbers in the given range are...\n",
      "1, 2, 3, 4, 5, 6, 7, 8, 9, 153, 370, 371, 407, 1634, 8208, 9474, 54748, 92727, 93084\n"
     ]
    }
   ],
   "source": [
    "lower = int(input(\"Enter the lower limit of interval: \"))\n",
    "upper = int(input(\"Enter the upper limit of interval: \"))\n",
    "l=list(range(lower,upper+1))\n",
    "a=[]\n",
    "for i in l:\n",
    "    sum=0\n",
    "    for j in str(i):\n",
    "        sum = sum + pow(int(j),(len(str(i))))  \n",
    "    if sum==i:\n",
    "        a.append(sum)\n",
    "\n",
    "        \n",
    "print(\"\\nAmstrong numbers in the given range are...\")        \n",
    "print(*a,sep=', ')"
   ]
  },
  {
   "cell_type": "markdown",
   "id": "157cad60",
   "metadata": {},
   "source": [
    "### 6. Write a Python Program to Find the Sum of Natural Numbers?"
   ]
  },
  {
   "cell_type": "code",
   "execution_count": 10,
   "id": "30f2a3e2",
   "metadata": {},
   "outputs": [
    {
     "name": "stdout",
     "output_type": "stream",
     "text": [
      "Enter the number of terms: 100\n",
      "\n",
      "Sum of first 100 natural numbers:\n",
      "Sum=5050\n"
     ]
    }
   ],
   "source": [
    "n = int(input(\"Enter the number of terms: \"))\n",
    "l = list(range(1,n+1))\n",
    "\n",
    "s = (n*(n+1))/2\n",
    "\n",
    "\n",
    "print(\"\\nSum of first \" +str(n)+\" natural numbers:\\nSum=\"+str(int(s)))"
   ]
  }
 ],
 "metadata": {
  "kernelspec": {
   "display_name": "Python 3 (ipykernel)",
   "language": "python",
   "name": "python3"
  },
  "language_info": {
   "codemirror_mode": {
    "name": "ipython",
    "version": 3
   },
   "file_extension": ".py",
   "mimetype": "text/x-python",
   "name": "python",
   "nbconvert_exporter": "python",
   "pygments_lexer": "ipython3",
   "version": "3.9.12"
  }
 },
 "nbformat": 4,
 "nbformat_minor": 5
}
